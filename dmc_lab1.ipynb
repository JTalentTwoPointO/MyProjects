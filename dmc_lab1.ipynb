{
  "nbformat": 4,
  "nbformat_minor": 0,
  "metadata": {
    "colab": {
      "name": "dmc_lab1.ipynb",
      "provenance": [],
      "collapsed_sections": [
        "OHKvr1N7_44i"
      ],
      "include_colab_link": true
    },
    "kernelspec": {
      "name": "python3",
      "display_name": "Python 3"
    },
    "language_info": {
      "name": "python"
    }
  },
  "cells": [
    {
      "cell_type": "markdown",
      "metadata": {
        "id": "view-in-github",
        "colab_type": "text"
      },
      "source": [
        "<a href=\"https://colab.research.google.com/github/JTalentTwoPointO/MyProjects/blob/main/dmc_lab1.ipynb\" target=\"_parent\"><img src=\"https://colab.research.google.com/assets/colab-badge.svg\" alt=\"Open In Colab\"/></a>"
      ]
    },
    {
      "cell_type": "markdown",
      "source": [
        "# Leon Yarovinski, Alon Yehuda Levi.\n",
        "\n",
        "---\n",
        "\n",
        "\n",
        "## Data-mining lab 1"
      ],
      "metadata": {
        "id": "cFQqIIXSzUHh"
      }
    },
    {
      "cell_type": "markdown",
      "source": [
        "#*Question 1 - introduction to data*"
      ],
      "metadata": {
        "id": "-KQw2m6oGWTa"
      }
    },
    {
      "cell_type": "code",
      "execution_count": null,
      "metadata": {
        "id": "Q4A_TKh7o5Db"
      },
      "outputs": [],
      "source": [
        "#Import all libraries \n",
        "import pandas as pd\n",
        "import numpy as np\n",
        "import matplotlib.pyplot as plt\n",
        "import seaborn as sns\n",
        "\n",
        "%matplotlib inline"
      ]
    },
    {
      "cell_type": "code",
      "source": [
        "#Read data from file\n",
        "data = pd.read_csv(\"data/dmc2010_train.txt\", sep=\";\")"
      ],
      "metadata": {
        "id": "SY4YdhJdwlny"
      },
      "execution_count": null,
      "outputs": []
    },
    {
      "cell_type": "markdown",
      "source": [
        "### a) List of columns and data types according to Pandas\n",
        "\n"
      ],
      "metadata": {
        "id": "O34Lsnnzy-8K"
      }
    },
    {
      "cell_type": "code",
      "source": [
        "data.info()"
      ],
      "metadata": {
        "colab": {
          "base_uri": "https://localhost:8080/"
        },
        "id": "49POE4zvxI9Q",
        "outputId": "0bdbc820-64bb-4da4-bcba-c1de73681427"
      },
      "execution_count": null,
      "outputs": [
        {
          "output_type": "stream",
          "name": "stdout",
          "text": [
            "<class 'pandas.core.frame.DataFrame'>\n",
            "RangeIndex: 32428 entries, 0 to 32427\n",
            "Data columns (total 38 columns):\n",
            " #   Column                Non-Null Count  Dtype \n",
            "---  ------                --------------  ----- \n",
            " 0   customernumber        32428 non-null  int64 \n",
            " 1   date                  32428 non-null  object\n",
            " 2   salutation            32428 non-null  int64 \n",
            " 3   title                 32428 non-null  int64 \n",
            " 4   domain                32428 non-null  int64 \n",
            " 5   datecreated           32428 non-null  object\n",
            " 6   newsletter            32428 non-null  int64 \n",
            " 7   model                 32428 non-null  int64 \n",
            " 8   paymenttype           32428 non-null  int64 \n",
            " 9   deliverytype          32428 non-null  int64 \n",
            " 10  invoicepostcode       32428 non-null  int64 \n",
            " 11  delivpostcode         1392 non-null   object\n",
            " 12  voucher               32428 non-null  int64 \n",
            " 13  advertisingdatacode   6523 non-null   object\n",
            " 14  case                  32428 non-null  int64 \n",
            " 15  numberitems           32428 non-null  int64 \n",
            " 16  gift                  32428 non-null  int64 \n",
            " 17  entry                 32428 non-null  int64 \n",
            " 18  points                32428 non-null  int64 \n",
            " 19  shippingcosts         32428 non-null  int64 \n",
            " 20  deliverydatepromised  32428 non-null  object\n",
            " 21  deliverydatereal      32428 non-null  object\n",
            " 22  weight                32428 non-null  int64 \n",
            " 23  remi                  32428 non-null  int64 \n",
            " 24  cancel                32428 non-null  int64 \n",
            " 25  used                  32428 non-null  int64 \n",
            " 26  w0                    32428 non-null  int64 \n",
            " 27  w1                    32428 non-null  int64 \n",
            " 28  w2                    32428 non-null  int64 \n",
            " 29  w3                    32428 non-null  int64 \n",
            " 30  w4                    32428 non-null  int64 \n",
            " 31  w5                    32428 non-null  int64 \n",
            " 32  w6                    32428 non-null  int64 \n",
            " 33  w7                    32428 non-null  int64 \n",
            " 34  w8                    32428 non-null  int64 \n",
            " 35  w9                    32428 non-null  int64 \n",
            " 36  w10                   32428 non-null  int64 \n",
            " 37  target90              32428 non-null  int64 \n",
            "dtypes: int64(32), object(6)\n",
            "memory usage: 9.4+ MB\n"
          ]
        }
      ]
    },
    {
      "cell_type": "markdown",
      "source": [
        "### b) Type of column in your words according to what is taught in class (nominal, arranged, continuous, etc.)"
      ],
      "metadata": {
        "id": "Pn7sjuySzJsV"
      }
    },
    {
      "cell_type": "markdown",
      "source": [
        "  customernumber     -    nominal    \n",
        "                      date   -      cardinal    \n",
        "                saturation    -     nominal    \n",
        "                     title     -    nominal    \n",
        "                    domain      -   nominal    \n",
        "               datecreated       -  cardinal    \n",
        "                newsletter-         nominal    \n",
        "                     model -        nominal    \n",
        "               paymenttype  -       nominal    \n",
        "              deliverytype   -      nominal    \n",
        "           invoicepostcode    -     nominal    \n",
        "             delivpostcode     -    nominal    \n",
        "                   voucher      -   nominal    \n",
        "       advertisingdatacode       -  nominal    \n",
        "                      case-         ordinal    \n",
        "               numberitems -        cardinal    \n",
        "                      gift  -       nominal    \n",
        "                     entry   -      nominal    \n",
        "                    points    -     nominal    \n",
        "             shippingcosts     -    nominal    \n",
        "      deliverydatepromised      -   cardinal    \n",
        "          deliverydatereal       -  cardinal    \n",
        "                    weight   -      cardinal    \n",
        "                      remi    -     cardinal    \n",
        "                    cancel     -    cardinal    \n",
        "                      used   -      cardinal    \n",
        "                        w0    -     cardinal    \n",
        "                        w1     -    cardinal    \n",
        "                        w2      -   cardinal    \n",
        "                        w3  -       cardinal    \n",
        "                        w4   -      cardinal    \n",
        "                        w5    -     cardinal    \n",
        "                        w6     -    cardinal    \n",
        "                        w7   -      cardinal    \n",
        "                        w8   -      cardinal    \n",
        "                        w9   -      cardinal    \n",
        "                       w10   -      cardinal    \n",
        "                  target90   -      nominal    "
      ],
      "metadata": {
        "id": "iqVC4FAm5mMb"
      }
    },
    {
      "cell_type": "code",
      "source": [
        "# features = pd.read_csv(\"data/dmc2010_features.csv\").dropna()\n",
        "# features = features.drop(['Unnamed: 3', 'Unnamed: 1'], axis=1).drop([0,37])\n",
        "# s = features.to_string(index=False, justify='center').replace('nom','nominal').replace('car', 'cardinal').replace('ord', 'ordinal')\n",
        "# print(s)"
      ],
      "metadata": {
        "id": "wxfJii7Sxr59"
      },
      "execution_count": null,
      "outputs": []
    },
    {
      "cell_type": "markdown",
      "source": [
        "### c) Common or average depending on the column type"
      ],
      "metadata": {
        "id": "BGZVr0ugzsei"
      }
    },
    {
      "cell_type": "code",
      "source": [
        "for col in data.columns:\n",
        "  print('most frequent value in ' + col)\n",
        "  print(data[col].mode(), end = '\\n\\n')"
      ],
      "metadata": {
        "id": "jTZ1SA2_zyQ4",
        "colab": {
          "base_uri": "https://localhost:8080/"
        },
        "outputId": "0ce93bfa-5704-415f-b156-836d4b0a8bf3"
      },
      "execution_count": null,
      "outputs": [
        {
          "output_type": "stream",
          "name": "stdout",
          "text": [
            "most frequent value in customernumber\n",
            "0            1\n",
            "1            3\n",
            "2            5\n",
            "3            6\n",
            "4            7\n",
            "         ...  \n",
            "32423    66246\n",
            "32424    66247\n",
            "32425    66249\n",
            "32426    66250\n",
            "32427    66251\n",
            "Length: 32428, dtype: int64\n",
            "\n",
            "most frequent value in date\n",
            "0    2008-12-15\n",
            "dtype: object\n",
            "\n",
            "most frequent value in salutation\n",
            "0    0\n",
            "dtype: int64\n",
            "\n",
            "most frequent value in title\n",
            "0    0\n",
            "dtype: int64\n",
            "\n",
            "most frequent value in domain\n",
            "0    12\n",
            "dtype: int64\n",
            "\n",
            "most frequent value in datecreated\n",
            "0    2008-12-15\n",
            "dtype: object\n",
            "\n",
            "most frequent value in newsletter\n",
            "0    0\n",
            "dtype: int64\n",
            "\n",
            "most frequent value in model\n",
            "0    1\n",
            "dtype: int64\n",
            "\n",
            "most frequent value in paymenttype\n",
            "0    0\n",
            "dtype: int64\n",
            "\n",
            "most frequent value in deliverytype\n",
            "0    0\n",
            "dtype: int64\n",
            "\n",
            "most frequent value in invoicepostcode\n",
            "0    44\n",
            "dtype: int64\n",
            "\n",
            "most frequent value in delivpostcode\n",
            "0    22.0\n",
            "dtype: object\n",
            "\n",
            "most frequent value in voucher\n",
            "0    0\n",
            "dtype: int64\n",
            "\n",
            "most frequent value in advertisingdatacode\n",
            "0    BQ\n",
            "dtype: object\n",
            "\n",
            "most frequent value in case\n",
            "0    4\n",
            "dtype: int64\n",
            "\n",
            "most frequent value in numberitems\n",
            "0    1\n",
            "dtype: int64\n",
            "\n",
            "most frequent value in gift\n",
            "0    0\n",
            "dtype: int64\n",
            "\n",
            "most frequent value in entry\n",
            "0    0\n",
            "dtype: int64\n",
            "\n",
            "most frequent value in points\n",
            "0    0\n",
            "dtype: int64\n",
            "\n",
            "most frequent value in shippingcosts\n",
            "0    0\n",
            "dtype: int64\n",
            "\n",
            "most frequent value in deliverydatepromised\n",
            "0    2008-12-23\n",
            "dtype: object\n",
            "\n",
            "most frequent value in deliverydatereal\n",
            "0    0000-00-00\n",
            "dtype: object\n",
            "\n",
            "most frequent value in weight\n",
            "0    0\n",
            "dtype: int64\n",
            "\n",
            "most frequent value in remi\n",
            "0    0\n",
            "dtype: int64\n",
            "\n",
            "most frequent value in cancel\n",
            "0    0\n",
            "dtype: int64\n",
            "\n",
            "most frequent value in used\n",
            "0    0\n",
            "dtype: int64\n",
            "\n",
            "most frequent value in w0\n",
            "0    0\n",
            "dtype: int64\n",
            "\n",
            "most frequent value in w1\n",
            "0    0\n",
            "dtype: int64\n",
            "\n",
            "most frequent value in w2\n",
            "0    0\n",
            "dtype: int64\n",
            "\n",
            "most frequent value in w3\n",
            "0    0\n",
            "dtype: int64\n",
            "\n",
            "most frequent value in w4\n",
            "0    0\n",
            "dtype: int64\n",
            "\n",
            "most frequent value in w5\n",
            "0    0\n",
            "dtype: int64\n",
            "\n",
            "most frequent value in w6\n",
            "0    0\n",
            "dtype: int64\n",
            "\n",
            "most frequent value in w7\n",
            "0    0\n",
            "dtype: int64\n",
            "\n",
            "most frequent value in w8\n",
            "0    0\n",
            "dtype: int64\n",
            "\n",
            "most frequent value in w9\n",
            "0    0\n",
            "dtype: int64\n",
            "\n",
            "most frequent value in w10\n",
            "0    0\n",
            "dtype: int64\n",
            "\n",
            "most frequent value in target90\n",
            "0    0\n",
            "dtype: int64\n",
            "\n"
          ]
        }
      ]
    },
    {
      "cell_type": "markdown",
      "source": [
        "### d) Min / Max values or a unique list of values (according to the secret of the column) "
      ],
      "metadata": {
        "id": "Gp7miqzg-Oim"
      }
    },
    {
      "cell_type": "code",
      "source": [
        "data.agg(['min','max'])"
      ],
      "metadata": {
        "colab": {
          "base_uri": "https://localhost:8080/",
          "height": 240
        },
        "id": "BvKamwL7-YA-",
        "outputId": "26f1ecd7-5de5-41f7-cf96-0b707934593e"
      },
      "execution_count": null,
      "outputs": [
        {
          "output_type": "execute_result",
          "data": {
            "text/plain": [
              "     customernumber        date  salutation  title  domain datecreated  \\\n",
              "min               1  2008-04-01           0      0       0  2008-04-01   \n",
              "max           66251  2009-03-31           2      1      12  2008-12-31   \n",
              "\n",
              "     newsletter  model  paymenttype  deliverytype  ...  w2  w3  w4  w5  w6  \\\n",
              "min           0      1            0             0  ...   0   0   0   0   0   \n",
              "max           1      3            3             1  ...  90  15  36  14  27   \n",
              "\n",
              "     w7  w8  w9 w10 target90  \n",
              "min   0   0   0   0        0  \n",
              "max  55   1  48  50        1  \n",
              "\n",
              "[2 rows x 36 columns]"
            ],
            "text/html": [
              "\n",
              "  <div id=\"df-008c3a47-4d4c-42b7-a746-964269cd5aad\">\n",
              "    <div class=\"colab-df-container\">\n",
              "      <div>\n",
              "<style scoped>\n",
              "    .dataframe tbody tr th:only-of-type {\n",
              "        vertical-align: middle;\n",
              "    }\n",
              "\n",
              "    .dataframe tbody tr th {\n",
              "        vertical-align: top;\n",
              "    }\n",
              "\n",
              "    .dataframe thead th {\n",
              "        text-align: right;\n",
              "    }\n",
              "</style>\n",
              "<table border=\"1\" class=\"dataframe\">\n",
              "  <thead>\n",
              "    <tr style=\"text-align: right;\">\n",
              "      <th></th>\n",
              "      <th>customernumber</th>\n",
              "      <th>date</th>\n",
              "      <th>salutation</th>\n",
              "      <th>title</th>\n",
              "      <th>domain</th>\n",
              "      <th>datecreated</th>\n",
              "      <th>newsletter</th>\n",
              "      <th>model</th>\n",
              "      <th>paymenttype</th>\n",
              "      <th>deliverytype</th>\n",
              "      <th>...</th>\n",
              "      <th>w2</th>\n",
              "      <th>w3</th>\n",
              "      <th>w4</th>\n",
              "      <th>w5</th>\n",
              "      <th>w6</th>\n",
              "      <th>w7</th>\n",
              "      <th>w8</th>\n",
              "      <th>w9</th>\n",
              "      <th>w10</th>\n",
              "      <th>target90</th>\n",
              "    </tr>\n",
              "  </thead>\n",
              "  <tbody>\n",
              "    <tr>\n",
              "      <th>min</th>\n",
              "      <td>1</td>\n",
              "      <td>2008-04-01</td>\n",
              "      <td>0</td>\n",
              "      <td>0</td>\n",
              "      <td>0</td>\n",
              "      <td>2008-04-01</td>\n",
              "      <td>0</td>\n",
              "      <td>1</td>\n",
              "      <td>0</td>\n",
              "      <td>0</td>\n",
              "      <td>...</td>\n",
              "      <td>0</td>\n",
              "      <td>0</td>\n",
              "      <td>0</td>\n",
              "      <td>0</td>\n",
              "      <td>0</td>\n",
              "      <td>0</td>\n",
              "      <td>0</td>\n",
              "      <td>0</td>\n",
              "      <td>0</td>\n",
              "      <td>0</td>\n",
              "    </tr>\n",
              "    <tr>\n",
              "      <th>max</th>\n",
              "      <td>66251</td>\n",
              "      <td>2009-03-31</td>\n",
              "      <td>2</td>\n",
              "      <td>1</td>\n",
              "      <td>12</td>\n",
              "      <td>2008-12-31</td>\n",
              "      <td>1</td>\n",
              "      <td>3</td>\n",
              "      <td>3</td>\n",
              "      <td>1</td>\n",
              "      <td>...</td>\n",
              "      <td>90</td>\n",
              "      <td>15</td>\n",
              "      <td>36</td>\n",
              "      <td>14</td>\n",
              "      <td>27</td>\n",
              "      <td>55</td>\n",
              "      <td>1</td>\n",
              "      <td>48</td>\n",
              "      <td>50</td>\n",
              "      <td>1</td>\n",
              "    </tr>\n",
              "  </tbody>\n",
              "</table>\n",
              "<p>2 rows × 36 columns</p>\n",
              "</div>\n",
              "      <button class=\"colab-df-convert\" onclick=\"convertToInteractive('df-008c3a47-4d4c-42b7-a746-964269cd5aad')\"\n",
              "              title=\"Convert this dataframe to an interactive table.\"\n",
              "              style=\"display:none;\">\n",
              "        \n",
              "  <svg xmlns=\"http://www.w3.org/2000/svg\" height=\"24px\"viewBox=\"0 0 24 24\"\n",
              "       width=\"24px\">\n",
              "    <path d=\"M0 0h24v24H0V0z\" fill=\"none\"/>\n",
              "    <path d=\"M18.56 5.44l.94 2.06.94-2.06 2.06-.94-2.06-.94-.94-2.06-.94 2.06-2.06.94zm-11 1L8.5 8.5l.94-2.06 2.06-.94-2.06-.94L8.5 2.5l-.94 2.06-2.06.94zm10 10l.94 2.06.94-2.06 2.06-.94-2.06-.94-.94-2.06-.94 2.06-2.06.94z\"/><path d=\"M17.41 7.96l-1.37-1.37c-.4-.4-.92-.59-1.43-.59-.52 0-1.04.2-1.43.59L10.3 9.45l-7.72 7.72c-.78.78-.78 2.05 0 2.83L4 21.41c.39.39.9.59 1.41.59.51 0 1.02-.2 1.41-.59l7.78-7.78 2.81-2.81c.8-.78.8-2.07 0-2.86zM5.41 20L4 18.59l7.72-7.72 1.47 1.35L5.41 20z\"/>\n",
              "  </svg>\n",
              "      </button>\n",
              "      \n",
              "  <style>\n",
              "    .colab-df-container {\n",
              "      display:flex;\n",
              "      flex-wrap:wrap;\n",
              "      gap: 12px;\n",
              "    }\n",
              "\n",
              "    .colab-df-convert {\n",
              "      background-color: #E8F0FE;\n",
              "      border: none;\n",
              "      border-radius: 50%;\n",
              "      cursor: pointer;\n",
              "      display: none;\n",
              "      fill: #1967D2;\n",
              "      height: 32px;\n",
              "      padding: 0 0 0 0;\n",
              "      width: 32px;\n",
              "    }\n",
              "\n",
              "    .colab-df-convert:hover {\n",
              "      background-color: #E2EBFA;\n",
              "      box-shadow: 0px 1px 2px rgba(60, 64, 67, 0.3), 0px 1px 3px 1px rgba(60, 64, 67, 0.15);\n",
              "      fill: #174EA6;\n",
              "    }\n",
              "\n",
              "    [theme=dark] .colab-df-convert {\n",
              "      background-color: #3B4455;\n",
              "      fill: #D2E3FC;\n",
              "    }\n",
              "\n",
              "    [theme=dark] .colab-df-convert:hover {\n",
              "      background-color: #434B5C;\n",
              "      box-shadow: 0px 1px 3px 1px rgba(0, 0, 0, 0.15);\n",
              "      filter: drop-shadow(0px 1px 2px rgba(0, 0, 0, 0.3));\n",
              "      fill: #FFFFFF;\n",
              "    }\n",
              "  </style>\n",
              "\n",
              "      <script>\n",
              "        const buttonEl =\n",
              "          document.querySelector('#df-008c3a47-4d4c-42b7-a746-964269cd5aad button.colab-df-convert');\n",
              "        buttonEl.style.display =\n",
              "          google.colab.kernel.accessAllowed ? 'block' : 'none';\n",
              "\n",
              "        async function convertToInteractive(key) {\n",
              "          const element = document.querySelector('#df-008c3a47-4d4c-42b7-a746-964269cd5aad');\n",
              "          const dataTable =\n",
              "            await google.colab.kernel.invokeFunction('convertToInteractive',\n",
              "                                                     [key], {});\n",
              "          if (!dataTable) return;\n",
              "\n",
              "          const docLinkHtml = 'Like what you see? Visit the ' +\n",
              "            '<a target=\"_blank\" href=https://colab.research.google.com/notebooks/data_table.ipynb>data table notebook</a>'\n",
              "            + ' to learn more about interactive tables.';\n",
              "          element.innerHTML = '';\n",
              "          dataTable['output_type'] = 'display_data';\n",
              "          await google.colab.output.renderOutput(dataTable, element);\n",
              "          const docLink = document.createElement('div');\n",
              "          docLink.innerHTML = docLinkHtml;\n",
              "          element.appendChild(docLink);\n",
              "        }\n",
              "      </script>\n",
              "    </div>\n",
              "  </div>\n",
              "  "
            ]
          },
          "metadata": {},
          "execution_count": 105
        }
      ]
    },
    {
      "cell_type": "markdown",
      "source": [
        "### e) amount of missing values in each column (if any)"
      ],
      "metadata": {
        "id": "OHKvr1N7_44i"
      }
    },
    {
      "cell_type": "code",
      "source": [
        "data.isnull().sum()"
      ],
      "metadata": {
        "colab": {
          "base_uri": "https://localhost:8080/"
        },
        "id": "DgihDG8AAASF",
        "outputId": "8538a28a-4821-4b7e-c81d-f6e8b59e3afa"
      },
      "execution_count": null,
      "outputs": [
        {
          "output_type": "execute_result",
          "data": {
            "text/plain": [
              "customernumber              0\n",
              "date                        0\n",
              "salutation                  0\n",
              "title                       0\n",
              "domain                      0\n",
              "datecreated                 0\n",
              "newsletter                  0\n",
              "model                       0\n",
              "paymenttype                 0\n",
              "deliverytype                0\n",
              "invoicepostcode             0\n",
              "delivpostcode           31036\n",
              "voucher                     0\n",
              "advertisingdatacode     25905\n",
              "case                        0\n",
              "numberitems                 0\n",
              "gift                        0\n",
              "entry                       0\n",
              "points                      0\n",
              "shippingcosts               0\n",
              "deliverydatepromised        0\n",
              "deliverydatereal            0\n",
              "weight                      0\n",
              "remi                        0\n",
              "cancel                      0\n",
              "used                        0\n",
              "w0                          0\n",
              "w1                          0\n",
              "w2                          0\n",
              "w3                          0\n",
              "w4                          0\n",
              "w5                          0\n",
              "w6                          0\n",
              "w7                          0\n",
              "w8                          0\n",
              "w9                          0\n",
              "w10                         0\n",
              "target90                    0\n",
              "dtype: int64"
            ]
          },
          "metadata": {},
          "execution_count": 82
        }
      ]
    },
    {
      "cell_type": "markdown",
      "source": [
        "### f) Dependence (correlation or other test (between each column and each column) depending on the type of data)"
      ],
      "metadata": {
        "id": "kxsKXZ--BAC3"
      }
    },
    {
      "cell_type": "code",
      "source": [
        "heatmap = data.corr()\n",
        "plt.figure(figsize=(7,6), dpi=200)\n",
        "sns.heatmap(heatmap)"
      ],
      "metadata": {
        "colab": {
          "base_uri": "https://localhost:8080/",
          "height": 1000
        },
        "id": "ky10sxpYBJSP",
        "outputId": "38568411-e0f6-41ba-c110-7d61a96168af"
      },
      "execution_count": null,
      "outputs": [
        {
          "output_type": "execute_result",
          "data": {
            "text/plain": [
              "<matplotlib.axes._subplots.AxesSubplot at 0x7fcd15c13390>"
            ]
          },
          "metadata": {},
          "execution_count": 9
        },
        {
          "output_type": "display_data",
          "data": {
            "text/plain": [
              "<Figure size 1400x1200 with 2 Axes>"
            ],
            "image/png": "[encoded data removed]"
          },
          "metadata": {
            "needs_background": "light"
          }
        }
      ]
    },
    {
      "cell_type": "markdown",
      "source": [
        "### g) For the continuous columns presented statistics (mean, standard deviation, quadrants, etc.)"
      ],
      "metadata": {
        "id": "QyzXXlNdEY3g"
      }
    },
    {
      "cell_type": "code",
      "source": [
        "data.describe()"
      ],
      "metadata": {
        "colab": {
          "base_uri": "https://localhost:8080/",
          "height": 394
        },
        "id": "ZIvy0OoGEmCK",
        "outputId": "64e5d26e-bbb9-48c5-c8eb-443be94782af"
      },
      "execution_count": null,
      "outputs": [
        {
          "output_type": "execute_result",
          "data": {
            "text/plain": [
              "       customernumber    salutation         title        domain    newsletter  \\\n",
              "count    32428.000000  32428.000000  32428.000000  32428.000000  32428.000000   \n",
              "mean     33389.298569      0.541569      0.006969      7.517115      0.169483   \n",
              "std      19148.090449      0.657044      0.083192      3.683945      0.375184   \n",
              "min          1.000000      0.000000      0.000000      0.000000      0.000000   \n",
              "25%      16802.750000      0.000000      0.000000      4.000000      0.000000   \n",
              "50%      33552.500000      0.000000      0.000000      9.000000      0.000000   \n",
              "75%      50034.250000      1.000000      0.000000     11.000000      0.000000   \n",
              "max      66251.000000      2.000000      1.000000     12.000000      1.000000   \n",
              "\n",
              "              model   paymenttype  deliverytype  invoicepostcode  \\\n",
              "count  32428.000000  32428.000000  32428.000000     32428.000000   \n",
              "mean       1.646910      1.000987      0.201955        48.752282   \n",
              "std        0.825981      1.092677      0.401465        24.361425   \n",
              "min        1.000000      0.000000      0.000000         0.000000   \n",
              "25%        1.000000      0.000000      0.000000        30.000000   \n",
              "50%        1.000000      1.000000      0.000000        47.000000   \n",
              "75%        2.000000      2.000000      0.000000        66.000000   \n",
              "max        3.000000      3.000000      1.000000        99.000000   \n",
              "\n",
              "            voucher  ...            w2            w3            w4  \\\n",
              "count  32428.000000  ...  32428.000000  32428.000000  32428.000000   \n",
              "mean       0.162020  ...      0.276644      0.018903      0.047027   \n",
              "std        0.368475  ...      1.353981      0.253596      0.434265   \n",
              "min        0.000000  ...      0.000000      0.000000      0.000000   \n",
              "25%        0.000000  ...      0.000000      0.000000      0.000000   \n",
              "50%        0.000000  ...      0.000000      0.000000      0.000000   \n",
              "75%        0.000000  ...      0.000000      0.000000      0.000000   \n",
              "max        1.000000  ...     90.000000     15.000000     36.000000   \n",
              "\n",
              "                 w5            w6            w7            w8            w9  \\\n",
              "count  32428.000000  32428.000000  32428.000000  32428.000000  32428.000000   \n",
              "mean       0.180986      0.027908      0.023128      0.000185      0.164981   \n",
              "std        0.561751      0.299862      0.401782      0.013601      0.836705   \n",
              "min        0.000000      0.000000      0.000000      0.000000      0.000000   \n",
              "25%        0.000000      0.000000      0.000000      0.000000      0.000000   \n",
              "50%        0.000000      0.000000      0.000000      0.000000      0.000000   \n",
              "75%        0.000000      0.000000      0.000000      0.000000      0.000000   \n",
              "max       14.000000     27.000000     55.000000      1.000000     48.000000   \n",
              "\n",
              "                w10      target90  \n",
              "count  32428.000000  32428.000000  \n",
              "mean       0.092883      0.186598  \n",
              "std        0.610509      0.389594  \n",
              "min        0.000000      0.000000  \n",
              "25%        0.000000      0.000000  \n",
              "50%        0.000000      0.000000  \n",
              "75%        0.000000      0.000000  \n",
              "max       50.000000      1.000000  \n",
              "\n",
              "[8 rows x 32 columns]"
            ],
            "text/html": [
              "\n",
              "  <div id=\"df-dac5a802-1903-48de-b075-f3e949a69bad\">\n",
              "    <div class=\"colab-df-container\">\n",
              "      <div>\n",
              "<style scoped>\n",
              "    .dataframe tbody tr th:only-of-type {\n",
              "        vertical-align: middle;\n",
              "    }\n",
              "\n",
              "    .dataframe tbody tr th {\n",
              "        vertical-align: top;\n",
              "    }\n",
              "\n",
              "    .dataframe thead th {\n",
              "        text-align: right;\n",
              "    }\n",
              "</style>\n",
              "<table border=\"1\" class=\"dataframe\">\n",
              "  <thead>\n",
              "    <tr style=\"text-align: right;\">\n",
              "      <th></th>\n",
              "      <th>customernumber</th>\n",
              "      <th>salutation</th>\n",
              "      <th>title</th>\n",
              "      <th>domain</th>\n",
              "      <th>newsletter</th>\n",
              "      <th>model</th>\n",
              "      <th>paymenttype</th>\n",
              "      <th>deliverytype</th>\n",
              "      <th>invoicepostcode</th>\n",
              "      <th>voucher</th>\n",
              "      <th>...</th>\n",
              "      <th>w2</th>\n",
              "      <th>w3</th>\n",
              "      <th>w4</th>\n",
              "      <th>w5</th>\n",
              "      <th>w6</th>\n",
              "      <th>w7</th>\n",
              "      <th>w8</th>\n",
              "      <th>w9</th>\n",
              "      <th>w10</th>\n",
              "      <th>target90</th>\n",
              "    </tr>\n",
              "  </thead>\n",
              "  <tbody>\n",
              "    <tr>\n",
              "      <th>count</th>\n",
              "      <td>32428.000000</td>\n",
              "      <td>32428.000000</td>\n",
              "      <td>32428.000000</td>\n",
              "      <td>32428.000000</td>\n",
              "      <td>32428.000000</td>\n",
              "      <td>32428.000000</td>\n",
              "      <td>32428.000000</td>\n",
              "      <td>32428.000000</td>\n",
              "      <td>32428.000000</td>\n",
              "      <td>32428.000000</td>\n",
              "      <td>...</td>\n",
              "      <td>32428.000000</td>\n",
              "      <td>32428.000000</td>\n",
              "      <td>32428.000000</td>\n",
              "      <td>32428.000000</td>\n",
              "      <td>32428.000000</td>\n",
              "      <td>32428.000000</td>\n",
              "      <td>32428.000000</td>\n",
              "      <td>32428.000000</td>\n",
              "      <td>32428.000000</td>\n",
              "      <td>32428.000000</td>\n",
              "    </tr>\n",
              "    <tr>\n",
              "      <th>mean</th>\n",
              "      <td>33389.298569</td>\n",
              "      <td>0.541569</td>\n",
              "      <td>0.006969</td>\n",
              "      <td>7.517115</td>\n",
              "      <td>0.169483</td>\n",
              "      <td>1.646910</td>\n",
              "      <td>1.000987</td>\n",
              "      <td>0.201955</td>\n",
              "      <td>48.752282</td>\n",
              "      <td>0.162020</td>\n",
              "      <td>...</td>\n",
              "      <td>0.276644</td>\n",
              "      <td>0.018903</td>\n",
              "      <td>0.047027</td>\n",
              "      <td>0.180986</td>\n",
              "      <td>0.027908</td>\n",
              "      <td>0.023128</td>\n",
              "      <td>0.000185</td>\n",
              "      <td>0.164981</td>\n",
              "      <td>0.092883</td>\n",
              "      <td>0.186598</td>\n",
              "    </tr>\n",
              "    <tr>\n",
              "      <th>std</th>\n",
              "      <td>19148.090449</td>\n",
              "      <td>0.657044</td>\n",
              "      <td>0.083192</td>\n",
              "      <td>3.683945</td>\n",
              "      <td>0.375184</td>\n",
              "      <td>0.825981</td>\n",
              "      <td>1.092677</td>\n",
              "      <td>0.401465</td>\n",
              "      <td>24.361425</td>\n",
              "      <td>0.368475</td>\n",
              "      <td>...</td>\n",
              "      <td>1.353981</td>\n",
              "      <td>0.253596</td>\n",
              "      <td>0.434265</td>\n",
              "      <td>0.561751</td>\n",
              "      <td>0.299862</td>\n",
              "      <td>0.401782</td>\n",
              "      <td>0.013601</td>\n",
              "      <td>0.836705</td>\n",
              "      <td>0.610509</td>\n",
              "      <td>0.389594</td>\n",
              "    </tr>\n",
              "    <tr>\n",
              "      <th>min</th>\n",
              "      <td>1.000000</td>\n",
              "      <td>0.000000</td>\n",
              "      <td>0.000000</td>\n",
              "      <td>0.000000</td>\n",
              "      <td>0.000000</td>\n",
              "      <td>1.000000</td>\n",
              "      <td>0.000000</td>\n",
              "      <td>0.000000</td>\n",
              "      <td>0.000000</td>\n",
              "      <td>0.000000</td>\n",
              "      <td>...</td>\n",
              "      <td>0.000000</td>\n",
              "      <td>0.000000</td>\n",
              "      <td>0.000000</td>\n",
              "      <td>0.000000</td>\n",
              "      <td>0.000000</td>\n",
              "      <td>0.000000</td>\n",
              "      <td>0.000000</td>\n",
              "      <td>0.000000</td>\n",
              "      <td>0.000000</td>\n",
              "      <td>0.000000</td>\n",
              "    </tr>\n",
              "    <tr>\n",
              "      <th>25%</th>\n",
              "      <td>16802.750000</td>\n",
              "      <td>0.000000</td>\n",
              "      <td>0.000000</td>\n",
              "      <td>4.000000</td>\n",
              "      <td>0.000000</td>\n",
              "      <td>1.000000</td>\n",
              "      <td>0.000000</td>\n",
              "      <td>0.000000</td>\n",
              "      <td>30.000000</td>\n",
              "      <td>0.000000</td>\n",
              "      <td>...</td>\n",
              "      <td>0.000000</td>\n",
              "      <td>0.000000</td>\n",
              "      <td>0.000000</td>\n",
              "      <td>0.000000</td>\n",
              "      <td>0.000000</td>\n",
              "      <td>0.000000</td>\n",
              "      <td>0.000000</td>\n",
              "      <td>0.000000</td>\n",
              "      <td>0.000000</td>\n",
              "      <td>0.000000</td>\n",
              "    </tr>\n",
              "    <tr>\n",
              "      <th>50%</th>\n",
              "      <td>33552.500000</td>\n",
              "      <td>0.000000</td>\n",
              "      <td>0.000000</td>\n",
              "      <td>9.000000</td>\n",
              "      <td>0.000000</td>\n",
              "      <td>1.000000</td>\n",
              "      <td>1.000000</td>\n",
              "      <td>0.000000</td>\n",
              "      <td>47.000000</td>\n",
              "      <td>0.000000</td>\n",
              "      <td>...</td>\n",
              "      <td>0.000000</td>\n",
              "      <td>0.000000</td>\n",
              "      <td>0.000000</td>\n",
              "      <td>0.000000</td>\n",
              "      <td>0.000000</td>\n",
              "      <td>0.000000</td>\n",
              "      <td>0.000000</td>\n",
              "      <td>0.000000</td>\n",
              "      <td>0.000000</td>\n",
              "      <td>0.000000</td>\n",
              "    </tr>\n",
              "    <tr>\n",
              "      <th>75%</th>\n",
              "      <td>50034.250000</td>\n",
              "      <td>1.000000</td>\n",
              "      <td>0.000000</td>\n",
              "      <td>11.000000</td>\n",
              "      <td>0.000000</td>\n",
              "      <td>2.000000</td>\n",
              "      <td>2.000000</td>\n",
              "      <td>0.000000</td>\n",
              "      <td>66.000000</td>\n",
              "      <td>0.000000</td>\n",
              "      <td>...</td>\n",
              "      <td>0.000000</td>\n",
              "      <td>0.000000</td>\n",
              "      <td>0.000000</td>\n",
              "      <td>0.000000</td>\n",
              "      <td>0.000000</td>\n",
              "      <td>0.000000</td>\n",
              "      <td>0.000000</td>\n",
              "      <td>0.000000</td>\n",
              "      <td>0.000000</td>\n",
              "      <td>0.000000</td>\n",
              "    </tr>\n",
              "    <tr>\n",
              "      <th>max</th>\n",
              "      <td>66251.000000</td>\n",
              "      <td>2.000000</td>\n",
              "      <td>1.000000</td>\n",
              "      <td>12.000000</td>\n",
              "      <td>1.000000</td>\n",
              "      <td>3.000000</td>\n",
              "      <td>3.000000</td>\n",
              "      <td>1.000000</td>\n",
              "      <td>99.000000</td>\n",
              "      <td>1.000000</td>\n",
              "      <td>...</td>\n",
              "      <td>90.000000</td>\n",
              "      <td>15.000000</td>\n",
              "      <td>36.000000</td>\n",
              "      <td>14.000000</td>\n",
              "      <td>27.000000</td>\n",
              "      <td>55.000000</td>\n",
              "      <td>1.000000</td>\n",
              "      <td>48.000000</td>\n",
              "      <td>50.000000</td>\n",
              "      <td>1.000000</td>\n",
              "    </tr>\n",
              "  </tbody>\n",
              "</table>\n",
              "<p>8 rows × 32 columns</p>\n",
              "</div>\n",
              "      <button class=\"colab-df-convert\" onclick=\"convertToInteractive('df-dac5a802-1903-48de-b075-f3e949a69bad')\"\n",
              "              title=\"Convert this dataframe to an interactive table.\"\n",
              "              style=\"display:none;\">\n",
              "        \n",
              "  <svg xmlns=\"http://www.w3.org/2000/svg\" height=\"24px\"viewBox=\"0 0 24 24\"\n",
              "       width=\"24px\">\n",
              "    <path d=\"M0 0h24v24H0V0z\" fill=\"none\"/>\n",
              "    <path d=\"M18.56 5.44l.94 2.06.94-2.06 2.06-.94-2.06-.94-.94-2.06-.94 2.06-2.06.94zm-11 1L8.5 8.5l.94-2.06 2.06-.94-2.06-.94L8.5 2.5l-.94 2.06-2.06.94zm10 10l.94 2.06.94-2.06 2.06-.94-2.06-.94-.94-2.06-.94 2.06-2.06.94z\"/><path d=\"M17.41 7.96l-1.37-1.37c-.4-.4-.92-.59-1.43-.59-.52 0-1.04.2-1.43.59L10.3 9.45l-7.72 7.72c-.78.78-.78 2.05 0 2.83L4 21.41c.39.39.9.59 1.41.59.51 0 1.02-.2 1.41-.59l7.78-7.78 2.81-2.81c.8-.78.8-2.07 0-2.86zM5.41 20L4 18.59l7.72-7.72 1.47 1.35L5.41 20z\"/>\n",
              "  </svg>\n",
              "      </button>\n",
              "      \n",
              "  <style>\n",
              "    .colab-df-container {\n",
              "      display:flex;\n",
              "      flex-wrap:wrap;\n",
              "      gap: 12px;\n",
              "    }\n",
              "\n",
              "    .colab-df-convert {\n",
              "      background-color: #E8F0FE;\n",
              "      border: none;\n",
              "      border-radius: 50%;\n",
              "      cursor: pointer;\n",
              "      display: none;\n",
              "      fill: #1967D2;\n",
              "      height: 32px;\n",
              "      padding: 0 0 0 0;\n",
              "      width: 32px;\n",
              "    }\n",
              "\n",
              "    .colab-df-convert:hover {\n",
              "      background-color: #E2EBFA;\n",
              "      box-shadow: 0px 1px 2px rgba(60, 64, 67, 0.3), 0px 1px 3px 1px rgba(60, 64, 67, 0.15);\n",
              "      fill: #174EA6;\n",
              "    }\n",
              "\n",
              "    [theme=dark] .colab-df-convert {\n",
              "      background-color: #3B4455;\n",
              "      fill: #D2E3FC;\n",
              "    }\n",
              "\n",
              "    [theme=dark] .colab-df-convert:hover {\n",
              "      background-color: #434B5C;\n",
              "      box-shadow: 0px 1px 3px 1px rgba(0, 0, 0, 0.15);\n",
              "      filter: drop-shadow(0px 1px 2px rgba(0, 0, 0, 0.3));\n",
              "      fill: #FFFFFF;\n",
              "    }\n",
              "  </style>\n",
              "\n",
              "      <script>\n",
              "        const buttonEl =\n",
              "          document.querySelector('#df-dac5a802-1903-48de-b075-f3e949a69bad button.colab-df-convert');\n",
              "        buttonEl.style.display =\n",
              "          google.colab.kernel.accessAllowed ? 'block' : 'none';\n",
              "\n",
              "        async function convertToInteractive(key) {\n",
              "          const element = document.querySelector('#df-dac5a802-1903-48de-b075-f3e949a69bad');\n",
              "          const dataTable =\n",
              "            await google.colab.kernel.invokeFunction('convertToInteractive',\n",
              "                                                     [key], {});\n",
              "          if (!dataTable) return;\n",
              "\n",
              "          const docLinkHtml = 'Like what you see? Visit the ' +\n",
              "            '<a target=\"_blank\" href=https://colab.research.google.com/notebooks/data_table.ipynb>data table notebook</a>'\n",
              "            + ' to learn more about interactive tables.';\n",
              "          element.innerHTML = '';\n",
              "          dataTable['output_type'] = 'display_data';\n",
              "          await google.colab.output.renderOutput(dataTable, element);\n",
              "          const docLink = document.createElement('div');\n",
              "          docLink.innerHTML = docLinkHtml;\n",
              "          element.appendChild(docLink);\n",
              "        }\n",
              "      </script>\n",
              "    </div>\n",
              "  </div>\n",
              "  "
            ]
          },
          "metadata": {},
          "execution_count": 100
        }
      ]
    },
    {
      "cell_type": "markdown",
      "source": [
        "### h) For individual values, show how many there are of each unique value "
      ],
      "metadata": {
        "id": "mx8lnSOQFs6M"
      }
    },
    {
      "cell_type": "code",
      "source": [
        "for col in data:\n",
        "  print(data[col].value_counts())"
      ],
      "metadata": {
        "id": "94zPfb6FF36V"
      },
      "execution_count": null,
      "outputs": []
    },
    {
      "cell_type": "markdown",
      "source": [
        "### i) Target90 a binary column. \n",
        "Used in determining people of interest whom shall receive a coupon \n",
        "(those who've made an additional purchase in the following 90days after)."
      ],
      "metadata": {
        "id": "gopD6YIdsvJX"
      }
    },
    {
      "cell_type": "markdown",
      "source": [
        "##I. What is done regarding missing values in our data?\n",
        "missing values in our data is a common outcome stems from multiple reasons such as:<br>\n",
        "\n",
        "\n",
        "*   Data Entry Errors\n",
        "*   People do not respond to survey\n",
        "*   Species are rare and cannot be found or sampled.<br>\n",
        "\n",
        "\n",
        "\n",
        "####To process missing values we can:\n",
        "*   Slice (Delete) the values.\n",
        "*   Fill in the missing values based on other rows\n",
        "*   Fill missing values using backward or forward fill\n",
        "*   Fill missing values based on mean\n",
        "\n",
        "\n",
        "<br>\n",
        "To determine missing values in our DataFrame, isnull() and notnull() will both help in checking whether a value is NaN or not.<br>\n",
        "\n",
        "##II. Regarding the column, what needs to be the distribution of values, and what can be done when such distribution does not meet the requirements?\n",
        "\n",
        "We can count the total percentage of missing values to determine the best approach to fill in those values. <br>\n",
        "If the missing values percentage is above 80-90%, we would like to look for another aproach rather than the mean technique to avoid data imbalance.\n",
        "\n",
        "\n",
        "##III.How do you think would be the efficient way to evaluate a model that was built using such data previously mentioned.\n",
        "\n",
        "The filled data might not be the correct one, and if we decide to feed it into a ML alogrithm, we might get biased or wrong result.  <br> \n",
        "We will try to produce different versions of missed data to find the most fitting solution.\n"
      ],
      "metadata": {
        "id": "-2R-Nxr0tEOF"
      }
    },
    {
      "cell_type": "markdown",
      "source": [
        "#*Question 2 - normalization*"
      ],
      "metadata": {
        "id": "IaTi4UVCGg4B"
      }
    },
    {
      "cell_type": "markdown",
      "source": [
        "####<b>What is Data normalization,Data standarization and the differences between them? </b>\n",
        "\n",
        "The two most discussed scaling methods are <b>Normalization</b> and\n",
        "<b>Standardization</b>.\n",
        "\n",
        "*   Normalization - data is rescaled into a range of [0,1].\n",
        "*   Standardization - rescaling data to have a mean of 0 and a standard deviation of 1 (unit variance).\n",
        "\n",
        "Scaling methods affect differently on different classifiers.\n",
        "Knowing the underlying math behind models\\preprocessing methods is the best way to understand the results and determine the correct scaling method."
      ],
      "metadata": {
        "id": "tdKXxmeSGj3X"
      }
    },
    {
      "cell_type": "markdown",
      "source": [
        "####<b>Summarize each type of normalization / standardization (sections a-c)</b>\n",
        "*   Min-Max - rescaling data to [0,1] values\n",
        "*   Z-Score - normalization with deviation of 1 and mean of 0 producing [-1,1] range of values\n",
        "*   Decimal Scaling - moving the decimal point to produce smaller or bigger values, according to the largest number\n",
        "\n"
      ],
      "metadata": {
        "id": "2d_cKtrjlk5a"
      }
    },
    {
      "cell_type": "code",
      "source": [
        "def min_max(lst):\n",
        "  return list(map(lambda x: (x - min(lst)) / (max(lst) - min(lst)), lst))\n",
        "\n",
        "def z_score(lst):\n",
        "  mean = sum(lst) / len(lst)\n",
        "  differences = [(x - mean)**2 for x in lst]\n",
        "  sum_of_differences = sum(differences)\n",
        "  standard_deviation = (sum_of_differences / (len(lst) - 1)) ** 0.5\n",
        "  return list(map(lambda x: round((x-mean)/standard_deviation ,2),lst))\n",
        "\n",
        "def Dec_scale(lst):\n",
        "    for x in lst:\n",
        "        p = lst[x].max()\n",
        "        q = len(str(abs(p)))\n",
        "        lst[x] = lst[x]/10**q"
      ],
      "metadata": {
        "id": "PRA8T-uCoYk_"
      },
      "execution_count": null,
      "outputs": []
    },
    {
      "cell_type": "markdown",
      "source": [
        "#### **Research and find Python libraries that know how to normalize / standardize and perform the same actions with their help.**\n",
        "\n"
      ],
      "metadata": {
        "id": "z8yj-D55noci"
      }
    },
    {
      "cell_type": "code",
      "source": [
        "#Stats\n",
        "import scipy.stats as stats\n",
        "stats.zscore(data)\n",
        "\n",
        "#mlxtend\n",
        "from mlxtend.preprocessing import minmax_scaling\n",
        "minmax_scaling(data)"
      ],
      "metadata": {
        "id": "yoDl7enzo85s"
      },
      "execution_count": null,
      "outputs": []
    },
    {
      "cell_type": "markdown",
      "source": [
        "#*Question 3 - discretization using binning*"
      ],
      "metadata": {
        "id": "htYvGuJVG049"
      }
    },
    {
      "cell_type": "markdown",
      "source": [
        "<b>What is data discretization?</b>\n",
        "<br>\n",
        "Data discretization is defined as a process of converting continuous data attribute values into a finite set of intervals with minimal loss of information."
      ],
      "metadata": {
        "id": "oVPfnGsnG2Zn"
      }
    },
    {
      "cell_type": "markdown",
      "source": [
        "<b>What is equal frequency discretization?</b><br>\n",
        "Equal depth (or frequency) binning is a method in which we divide the range [a , b] of the variable into intervals that contain (approximately) equal number of points.<br>\n",
        "Therefore the thresholds of all bins is selected in a way that all bins contain the same number of numerical values.<br>\n",
        "The division of the dataset into k bins insures that all bins have an equal number of frequencies.\n"
      ],
      "metadata": {
        "id": "FjUC8cGiHvxk"
      }
    },
    {
      "cell_type": "code",
      "source": [
        "def equalFrequency(lst, k):   \n",
        "    length = len(lst)\n",
        "    width = int(length / k)\n",
        "    for x in range(0, k):\n",
        "        arr = []\n",
        "        for y in range(x * width, (x + 1) * width):\n",
        "            if length <= y:#outofbound\n",
        "                break\n",
        "            arr += [lst[y]]\n",
        "        print(arr)\n",
        "\n",
        "# data for binning\n",
        "data = [8, 22, 45, 19, 15, 352, 553, 52, 275]\n",
        "# number of bins\n",
        "k = 3 \n",
        "print(\"Example for 'Equal Frequency Binning'\")\n",
        "equalFrequency(data, k)"
      ],
      "metadata": {
        "colab": {
          "base_uri": "https://localhost:8080/"
        },
        "id": "tuAPzOhWxohw",
        "outputId": "41a50156-6ee0-4083-c732-41c6f879bf5c"
      },
      "execution_count": null,
      "outputs": [
        {
          "output_type": "stream",
          "name": "stdout",
          "text": [
            "Example for 'Equal Frequency Binning'\n",
            "[8, 22, 45]\n",
            "[19, 15, 352]\n",
            "[553, 52, 275]\n"
          ]
        }
      ]
    },
    {
      "cell_type": "markdown",
      "source": [
        "<b>What is equal width discretization?</b><br>\n",
        "Equal width binning is a method in which we partition the range of the variable into k equal-width intervals. The interval width is simply the range [A, B] of the variable divided by k.<br>\n",
        "Therefor the bins represent an equal range of the original variable values, no matter how many cases are in each bin.\n"
      ],
      "metadata": {
        "id": "goWidt1IJBr2"
      }
    },
    {
      "cell_type": "code",
      "source": [
        "def equalWidth(arr,k):\n",
        "  width = int((max(arr) - min(arr)) / k)\n",
        "  lst = []\n",
        "  for x in range(0, k+1):\n",
        "    lst += [min(arr) + width * x]\n",
        "  new_arr = []\n",
        "  for x in range(0, k):\n",
        "    tmp = []\n",
        "    for y in arr:\n",
        "      if y <= lst[x+1] and y >= lst[x]:\n",
        "        tmp += [y]\n",
        "    new_arr += [tmp]\n",
        "  print(new_arr)\n",
        "\n",
        "# data for binning\n",
        "data = [17, 25, 54, 195, 235, 33, 52, 782]\n",
        "# number of bins\n",
        "k = 3\n",
        "print(\"Example for 'Equal Width Binning'\")\n",
        "equalWidth(data, k)"
      ],
      "metadata": {
        "colab": {
          "base_uri": "https://localhost:8080/"
        },
        "id": "uV0XkFlWpSyN",
        "outputId": "ea3c6481-0c89-4a45-c0a5-a4778cbea156"
      },
      "execution_count": null,
      "outputs": [
        {
          "output_type": "stream",
          "name": "stdout",
          "text": [
            "Example for 'Equal Width Binning'\n",
            "[[17, 25, 54, 195, 235, 33, 52], [], [782]]\n"
          ]
        }
      ]
    },
    {
      "cell_type": "markdown",
      "source": [
        "<b>Python libraries which perform data discretization with bins</b><br>\n",
        "\n"
      ],
      "metadata": {
        "id": "Xay9f92s2R7q"
      }
    },
    {
      "cell_type": "code",
      "source": [
        "#Equal Frequency Binning\n",
        "pd.qcut(data['weight'], q=4)"
      ],
      "metadata": {
        "colab": {
          "base_uri": "https://localhost:8080/"
        },
        "id": "oqXuHKqo2zbg",
        "outputId": "e418523d-f8a9-40a0-b9e5-bd643c0e798e"
      },
      "execution_count": null,
      "outputs": [
        {
          "output_type": "execute_result",
          "data": {
            "text/plain": [
              "0          (494.0, 920.0]\n",
              "1            (3.0, 494.0]\n",
              "2            (3.0, 494.0]\n",
              "3           (-0.001, 3.0]\n",
              "4          (494.0, 920.0]\n",
              "               ...       \n",
              "32423    (920.0, 20076.0]\n",
              "32424       (-0.001, 3.0]\n",
              "32425        (3.0, 494.0]\n",
              "32426      (494.0, 920.0]\n",
              "32427        (3.0, 494.0]\n",
              "Name: weight, Length: 32428, dtype: category\n",
              "Categories (4, interval[float64, right]): [(-0.001, 3.0] < (3.0, 494.0] < (494.0, 920.0] <\n",
              "                                           (920.0, 20076.0]]"
            ]
          },
          "metadata": {},
          "execution_count": 105
        }
      ]
    },
    {
      "cell_type": "code",
      "source": [
        "#Equal Width Binning\n",
        "pd.cut(data['weight'], bins=4)"
      ],
      "metadata": {
        "colab": {
          "base_uri": "https://localhost:8080/"
        },
        "id": "i7fmy5DP8hts",
        "outputId": "d830c9a0-ec7b-49ec-e1b1-dc8db298d182"
      },
      "execution_count": null,
      "outputs": [
        {
          "output_type": "execute_result",
          "data": {
            "text/plain": [
              "0        (-20.076, 5019.0]\n",
              "1        (-20.076, 5019.0]\n",
              "2        (-20.076, 5019.0]\n",
              "3        (-20.076, 5019.0]\n",
              "4        (-20.076, 5019.0]\n",
              "               ...        \n",
              "32423    (-20.076, 5019.0]\n",
              "32424    (-20.076, 5019.0]\n",
              "32425    (-20.076, 5019.0]\n",
              "32426    (-20.076, 5019.0]\n",
              "32427    (-20.076, 5019.0]\n",
              "Name: weight, Length: 32428, dtype: category\n",
              "Categories (4, interval[float64, right]): [(-20.076, 5019.0] < (5019.0, 10038.0] < (10038.0, 15057.0] <\n",
              "                                           (15057.0, 20076.0]]"
            ]
          },
          "metadata": {},
          "execution_count": 106
        }
      ]
    },
    {
      "cell_type": "markdown",
      "source": [
        "#*Question 4 - smoothing*"
      ],
      "metadata": {
        "id": "vz9EUPQ8KWrK"
      }
    },
    {
      "cell_type": "markdown",
      "source": [
        "<b>a) What is data smoothing?</b><br>\n",
        "\n",
        "Data smoothing is used on data sets for multiple reasons such as:\n",
        "\n",
        "*   noise expulsion - this allows important patterns to be clearer and standout.\n",
        "*   trend prediction - e.g those found in economic or security price analysis.\n",
        "\n"
      ],
      "metadata": {
        "id": "J91XfvBkKerZ"
      }
    },
    {
      "cell_type": "markdown",
      "source": [
        "<b>b) What is moving average and how does it assist with data smoothing</b><br>\n",
        "\n",
        "\n",
        "A moving average is a technique that market analysts and investors may use to get an overall direction of the trends in a data set, it is an average of any subset of numbers.\n",
        "\n",
        "It is called a “moving” average because it is continually recalculated based on the latest entry data.\n",
        "\n",
        "The main advantage is that it offers a smoothed line, less prone to whipsawing up and down in response to slight, temporary data swings back and forth.\n",
        "\n",
        "\n"
      ],
      "metadata": {
        "id": "0Y_aJrMzMVO1"
      }
    },
    {
      "cell_type": "markdown",
      "source": [
        "## c) Different Smoothing Methods\n"
      ],
      "metadata": {
        "id": "ehbAevD6Sn8G"
      }
    },
    {
      "cell_type": "markdown",
      "source": [
        "### <b>Simple Moving Average</b><br>\n",
        "Is the most common type of average used. In SMA, we perform a summation of recent data points and divide them by the time period.\n",
        "The higher the value of the sliding width, the more the data smoothens out"
      ],
      "metadata": {
        "id": "rMBZG_l8BC0F"
      }
    },
    {
      "cell_type": "code",
      "source": [
        "#Python Libraries\n",
        "def SMA(data, window):\n",
        "  i = 0\n",
        "  moving_averages = []\n",
        "  while i < len(data['w0']) - window + 1:\n",
        "      this_window = data['w0'][i : i + window]\n",
        "      window_average = sum(this_window) / window\n",
        "      moving_averages.append(window_average)\n",
        "      i += 1\n",
        "  return moving_averages"
      ],
      "metadata": {
        "id": "UZTGtGRC9wMF"
      },
      "execution_count": null,
      "outputs": []
    },
    {
      "cell_type": "code",
      "source": [
        "#Pandas\n",
        "def SMA(data, window):\n",
        "  windows = data.rolling(window)\n",
        "  moving_averages = windows.mean()\n",
        "  moving_averages_list = moving_averages.tolist()\n",
        "  without_nans = moving_averages_list[window - 1:]\n",
        "  return without_nans"
      ],
      "metadata": {
        "id": "5kw5rGUR_y5H"
      },
      "execution_count": null,
      "outputs": []
    },
    {
      "cell_type": "markdown",
      "source": [
        "### <b>Weighted Moving Average</b>\n",
        "\n",
        "In the case of the simple moving average, the weightings are equally distributed.\n",
        "The method assigns a heavier weighting to more current data points since they are more relevant than data points in the distant past."
      ],
      "metadata": {
        "id": "YJm5JoimAwov"
      }
    },
    {
      "cell_type": "code",
      "source": [
        "#Python\n",
        "def weighted_average(nums, weights):\n",
        "  return sum(x * y for x, y in zip(nums, weights)) / sum(weights)"
      ],
      "metadata": {
        "id": "D0qoafqM9y_l"
      },
      "execution_count": null,
      "outputs": []
    },
    {
      "cell_type": "code",
      "source": [
        "#Numpy\n",
        "weighted_avg = np.average(a= data['w0'], weights=data['w1'])\n",
        "weighted_avg"
      ],
      "metadata": {
        "colab": {
          "base_uri": "https://localhost:8080/"
        },
        "id": "SDi1dKClBxr5",
        "outputId": "b0cce7eb-3da7-4256-958a-3f26d75d27a9"
      },
      "execution_count": null,
      "outputs": [
        {
          "output_type": "execute_result",
          "data": {
            "text/plain": [
              "0.7535082367297132"
            ]
          },
          "metadata": {},
          "execution_count": 28
        }
      ]
    },
    {
      "cell_type": "markdown",
      "source": [
        "### <b>Exponential Moving Average</b>\n",
        "Focuses more on recent data by assigning more weight to new data.<br>\n",
        "The main idea behind EMA is to give preference to the recent data more than previous data. The older the data, the lesser is the weight assigned to it"
      ],
      "metadata": {
        "id": "ixW2TPAoBgs7"
      }
    },
    {
      "cell_type": "code",
      "source": [
        "#Python\n",
        "def ema(prices, N, k, length):\n",
        "    if len(prices) == length-N:\n",
        "        return prices[0]\n",
        "    res_ema = [p for p in prices[:N]]\n",
        "    for t in range(N, length):\n",
        "        res_ema.append(prices[t] * k + res_ema[t-1] * (1 - k))\n",
        "    return res_ema"
      ],
      "metadata": {
        "id": "jmFg0Icc91Fs"
      },
      "execution_count": null,
      "outputs": []
    },
    {
      "cell_type": "code",
      "source": [
        "#Pandas\n",
        "def EMA(data, span):\n",
        "  return data.ewm(span=span, adjust=False).mean()"
      ],
      "metadata": {
        "id": "ekU-liL9D6Sd"
      },
      "execution_count": null,
      "outputs": []
    },
    {
      "cell_type": "markdown",
      "source": [
        "<b>d) binning methods for data smoothing</b><br>\n",
        "Smoothing to handle noisy data is used by binning methods.<br>\n",
        "Chunks of data is smoothed localy without the influence of other chunks in the group.\n",
        "\n",
        "\n"
      ],
      "metadata": {
        "id": "8CVyVRLHWB4t"
      }
    },
    {
      "cell_type": "markdown",
      "source": [
        "###i. Smoothing by bins means<br>\n",
        "Each value in a bin is replaced by the mean value of the bin.\n"
      ],
      "metadata": {
        "id": "pGMVA8oCI8Iu"
      }
    },
    {
      "cell_type": "code",
      "source": [
        "#Python\n",
        "def avg(lst):\n",
        "  return sum(lst) / len(lst)\n",
        "\n",
        "def bin_means(data):\n",
        "  return list(map(lambda x: [avg(x) for i in x], data))"
      ],
      "metadata": {
        "id": "7ugcd_CIavzT"
      },
      "execution_count": null,
      "outputs": []
    },
    {
      "cell_type": "code",
      "source": [
        "#Statistics\n",
        "from scipy.stats import binned_statistic\n",
        "binned_statistic(data['w0'],np.arrange(0,len(data)), statistic=\"mean\", bins=10)"
      ],
      "metadata": {
        "id": "JviAHBJQK0G_"
      },
      "execution_count": null,
      "outputs": []
    },
    {
      "cell_type": "markdown",
      "source": [
        "###ii. Smoothing by bins boundraies<br>\n",
        "The minimum and maximum values in a given bin are identified as the bin boundaries. Each bin value is then replaced by the closest boundary value."
      ],
      "metadata": {
        "id": "dbwd31PTJBjB"
      }
    },
    {
      "cell_type": "code",
      "source": [
        "#Python\n",
        "def closest(n, min, max):\n",
        "  return min if (max - n) > (n - min) else max\n",
        "\n",
        "def bin_bound(data):\n",
        "  return list(map(lambda x: [closest(i, min(x),max(x)) for i in x], data))"
      ],
      "metadata": {
        "id": "pEaeZFC8NZB4"
      },
      "execution_count": null,
      "outputs": []
    },
    {
      "cell_type": "code",
      "source": [
        "#Statistics\n",
        "def custom(x):\n",
        "  return [min(x) if (max(x) - i) > (i - min(x)) else max(x) for i in x]\n",
        "\n",
        "from scipy.stats import binned_statistic\n",
        "binned_statistic(data['w0'],np.arrange(0,len(data)), statistic=custom, bins=10)"
      ],
      "metadata": {
        "id": "P8nM7LX-OWMN"
      },
      "execution_count": null,
      "outputs": []
    }
  ]
}